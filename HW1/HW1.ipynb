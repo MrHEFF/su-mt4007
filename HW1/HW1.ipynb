{
 "cells": [
  {
   "cell_type": "markdown",
   "metadata": {},
   "source": [
    "# Homework 1\n",
    "I am a 2nd year student at Stockholm University studying the bachelors program called \"Kandidatprogrammet i matematik och datavetenskap\". I am from Croatia originally but moved here to Sweden about 10 years ago. \n",
    "\n",
    "I have made some Minecraft mods when I was small, learned some Lua (not at all proficient) but never got into data science. I have some very limited knowledge of data science, I know how to use R and RStudio but that's about it when it comes to the languages concerning data science, and of course some python but nothing quite about data science. "
   ]
  }
 ],
 "metadata": {
  "kernelspec": {
   "display_name": "base",
   "language": "python",
   "name": "python3"
  },
  "language_info": {
   "name": "python",
   "version": "3.12.7"
  }
 },
 "nbformat": 4,
 "nbformat_minor": 2
}
