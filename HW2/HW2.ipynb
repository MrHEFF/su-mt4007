{
 "cells": [
  {
   "cell_type": "markdown",
   "metadata": {},
   "source": [
    "# Aparatment Prices\n",
    "Using the file \"Booli_sold.csv\" we can analyze the data on sales of apartments in Ekhagen. \n",
    "\n",
    "1. Calculate the price per square meter (ppsqm) for each aparment sold. Ie. add a new variable to your table containing the data representing the price per square meter. \n",
    "2. Rank the top 5 most expensive appartments w.r.t ppsqm. Present this in a table. Hint: Use a sort function.\n",
    "3. What is the avereage ppsqm in Ekhagen?\n",
    "4. Highlight an aspect of the data that you find interesting. Explain your choice."
   ]
  },
  {
   "cell_type": "code",
   "execution_count": 47,
   "metadata": {},
   "outputs": [],
   "source": [
    "import pandas as pd"
   ]
  },
  {
   "cell_type": "code",
   "execution_count": 48,
   "metadata": {},
   "outputs": [
    {
     "name": "stdout",
     "output_type": "stream",
     "text": [
      "The price per square meter is:\n",
      "0      54726.0\n",
      "1      55417.0\n",
      "2      62963.0\n",
      "3      51355.0\n",
      "4      68793.0\n",
      "        ...   \n",
      "153    57500.0\n",
      "154    44900.0\n",
      "155    63043.0\n",
      "156    44554.0\n",
      "157    46000.0\n",
      "Name: ppsqm, Length: 158, dtype: float64\n"
     ]
    }
   ],
   "source": [
    "df = pd.read_csv(\"Booli_sold.csv\") # read file\n",
    "df[\"ppsqm\"] = round(df[\"listPrice\"] / df[\"livingArea\"])\n",
    "\n",
    "print(\"The price per square meter is:\\n\" + str(df[\"ppsqm\"]))"
   ]
  },
  {
   "cell_type": "code",
   "execution_count": 49,
   "metadata": {},
   "outputs": [
    {
     "name": "stdout",
     "output_type": "stream",
     "text": [
      "The 5 most expensive apartments:\n",
      "    listPrice  livingArea  ppsqm\n",
      "10    2295000        29.0  79138\n",
      "50    1890000        24.0  78750\n",
      "54    1795000        23.0  78043\n",
      "49    3495000        47.0  74362\n",
      "24    2500000        35.0  71429\n"
     ]
    }
   ],
   "source": [
    "most_expensive_sorted = df.nlargest(5, 'ppsqm')[['listPrice', 'livingArea', 'ppsqm']] # select the top 5 rows sorted by 'ppsqm' and keep relevant columns\n",
    "\n",
    "most_expensive_sorted['ppsqm'] = most_expensive_sorted['ppsqm'].round().astype(int) # round to avoid decimals\n",
    "\n",
    "# Print the table\n",
    "print(\"The 5 most expensive apartments:\\n\" + str(most_expensive_sorted))\n"
   ]
  },
  {
   "cell_type": "code",
   "execution_count": 50,
   "metadata": {},
   "outputs": [
    {
     "name": "stdout",
     "output_type": "stream",
     "text": [
      "The average price per square meter in Ekhagen is: 54127\n"
     ]
    }
   ],
   "source": [
    "average_ppsqm = int(df[\"ppsqm\"].mean())\n",
    "print(\"The average price per square meter in Ekhagen is: \" + str(average_ppsqm))"
   ]
  },
  {
   "cell_type": "markdown",
   "metadata": {},
   "source": [
    "## Takeaway & Hypothesis\n",
    "A potentially interesting takeaway from this analysis is that the prices in Ekhagen are generally on the lower end compared to other parts of Stockholm (we haven't analyzed other parts of Stockholm but from experience this can be said), this could be due to many factors but one particular factor that in mind is the time of construction of all the apartments being sold in Ekhagen. They are generally older apartments from the 1930s. A further analysis that could perhaps prove this \"hypothesis\" could be to analyze the general price ranges in other parts of Stockholm with similar socioeconomic and architectural conditions. "
   ]
  },
  {
   "cell_type": "markdown",
   "metadata": {},
   "source": [
    "# The Swedish Election of 2018\n",
    "Using data provided to us in the file \"2018_R_per_kommun.csv\" we will now analyze the following:\n",
    "\n",
    "1. Calculate the total number of legitimate votes (Giltiga Röster) in Stockholm during the election. That is, sum upp the number of legitimate votes for all municipalities (kommun) in Stockholm.\n",
    "2. In which municipality did the social democratic party (Social demokraterna, S) garner the hightest voting percentage?\n",
    "3. Rank the (3) municipialities with highest participation (valdeltagande). Present this in the form of a table."
   ]
  },
  {
   "cell_type": "code",
   "execution_count": null,
   "metadata": {},
   "outputs": [
    {
     "name": "stdout",
     "output_type": "stream",
     "text": [
      "The total number of legitimate votes in Sweden during the election is: 6476725\n"
     ]
    }
   ],
   "source": [
    "df2 = pd.read_csv(\"2018_R_per_kommun.csv\", sep=\";\") # read using separator ;\n",
    "total_legitimate_votes = df2[\"RÖSTER GILTIGA\"].sum()\n",
    "\n",
    "print(\"The total number of legitimate votes in Sweden during the election is: \" + str(total_legitimate_votes))"
   ]
  },
  {
   "cell_type": "code",
   "execution_count": 58,
   "metadata": {},
   "outputs": [
    {
     "name": "stdout",
     "output_type": "stream",
     "text": [
      "The municipality with the highest voting percentage in the political party S (Social Demokraterna): \n",
      "     KOMMUNKOD KOMMUNNAMN     S\n",
      "176         93  Mariestad  33.0\n"
     ]
    }
   ],
   "source": [
    "df2[\"S\"] = pd.to_numeric(df2[\"S\"], errors=\"coerce\")\n",
    "muni_highest_S_voting_percentage = df2.nlargest(1, \"S\")[['KOMMUNKOD', 'KOMMUNNAMN', 'S']]\n",
    "\n",
    "print(\"The municipality with the highest voting percentage in the political party S (Social Demokraterna): \\n\" + str(muni_highest_S_voting_percentage))\n"
   ]
  },
  {
   "cell_type": "code",
   "execution_count": 61,
   "metadata": {},
   "outputs": [
    {
     "name": "stdout",
     "output_type": "stream",
     "text": [
      "The 3 municipalities with highest participation (valdeltagande) are \n",
      "     KOMMUNKOD KOMMUNNAMN  VALDELTAGANDE\n",
      "187         61    Hammarö           91.0\n",
      "18          82      Nacka           90.0\n",
      "57          17     Gnosjö           86.0\n"
     ]
    }
   ],
   "source": [
    "df2[\"VALDELTAGANDE\"] = pd.to_numeric(df2[\"VALDELTAGANDE\"], errors=\"coerce\")\n",
    "top_3_highest_muni_participation = df2.nlargest(3, \"VALDELTAGANDE\")[['KOMMUNKOD','KOMMUNNAMN', 'VALDELTAGANDE']]\n",
    "\n",
    "print(\"The 3 municipalities with highest participation (valdeltagande) are \\n\" + str(top_3_highest_muni_participation))"
   ]
  },
  {
   "cell_type": "markdown",
   "metadata": {},
   "source": [
    "# Predicting Strokes\n",
    "Our task is to draw a conclusion using a suitable plot based on the file \"stroke-data.csv\" that was given to us or more specifically the data provided to us by https://www.kaggle.com/datasets/fedesoriano/stroke-prediction-dataset - Kaggle: Stroke Prediction Dataset. We will do this by plotting a line chart showcasing whether some of the common factors of stroke have a correlation with infact having a stroke. These factors are age, gender, smoking, heart disease and BMI. "
   ]
  },
  {
   "cell_type": "code",
   "execution_count": 64,
   "metadata": {},
   "outputs": [
    {
     "data": {
      "image/png": "[encoded data removed]",
      "text/plain": [
       "<Figure size 800x500 with 1 Axes>"
      ]
     },
     "metadata": {},
     "output_type": "display_data"
    }
   ],
   "source": [
    "import pandas as pd\n",
    "import matplotlib.pyplot as plt\n",
    "import seaborn as sns\n",
    "\n",
    "data = pd.read_csv('stroke-data.csv') # read\n",
    "\n",
    "data = data[['gender', 'age', 'smoking_status', 'heart_disease', 'bmi', 'stroke']] # choose relevant columns and define only those as parts of data\n",
    "\n",
    "data['gender'] = data['gender'].map({'Male': 0, 'Female': 1, 'Other': 2}) # substitute missing gender \n",
    "data['smoking_status'] = data['smoking_status'].map({ # map missing smoking status with numerical values\n",
    "    'never smoked': 0,\n",
    "    'formerly smoked': 1,\n",
    "    'smokes': 2,\n",
    "    'Unknown': 3\n",
    "})\n",
    "\n",
    "corr_matrix = data.corr() # correlation matrix, ie compute correlation between columns of our data, excluding null values\n",
    "\n",
    "stroke_corr = corr_matrix['stroke'].drop('stroke').sort_values(ascending=True) # drop/remove unecessary rows or columns \n",
    "# from our dataframe matrix corr_matrix and show correlation with having a stroke and then finally sort\n",
    "\n",
    "sns.set_style(style=\"dark\") # set style of chart\n",
    "\n",
    "plt.figure(figsize=(8,5)) # create bar plot with some dimensions \n",
    "stroke_corr.plot(kind='bar', color='red') # characteristics of plot\n",
    "\n",
    "plt.title('Correlation of Factors with Stroke Occurrence')\n",
    "plt.xlabel('Factors')\n",
    "plt.ylabel('Correlation Coefficient')\n",
    "plt.ylim(-0.1, 1)\n",
    "\n",
    "plt.show() # display"
   ]
  },
  {
   "cell_type": "markdown",
   "metadata": {},
   "source": [
    "The conclusion that age is the main factor of stroke since it has the highest correlation coefficient with respect to having stroke can be drawn due to having the highest correlation coefficient, somewhere around 0.25. While we maybe cannot really draw a definite conclusion since we excluded some of the columns provided to us we can with regard to these factors draw the conclusion that previous heart disease and age certainly imply a higher chance of stroke. "
   ]
  }
 ],
 "metadata": {
  "kernelspec": {
   "display_name": "base",
   "language": "python",
   "name": "python3"
  },
  "language_info": {
   "codemirror_mode": {
    "name": "ipython",
    "version": 3
   },
   "file_extension": ".py",
   "mimetype": "text/x-python",
   "name": "python",
   "nbconvert_exporter": "python",
   "pygments_lexer": "ipython3",
   "version": "3.11.5"
  }
 },
 "nbformat": 4,
 "nbformat_minor": 2
}
