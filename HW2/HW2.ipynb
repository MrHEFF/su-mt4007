{
 "cells": [
  {
   "cell_type": "markdown",
   "metadata": {},
   "source": [
    "# Aparatment Prices\n",
    "Using the file \"Booli_sold.csv\" we can analyze the data on sales of apartments in Ekhagen. \n",
    "\n",
    "1. Calculate the price per square meter (ppsqm) for each aparment sold. Ie. add a new variable to your table containing the data representing the price per square meter. \n",
    "2. Rank the top 5 most expensive appartments w.r.t ppsqm. Present this in a table. Hint: Use a sort function.\n",
    "3. What is the avereage ppsqm in Ekhagen?\n",
    "4. Highlight an aspect of the data that you find interesting. Explain your choice."
   ]
  },
  {
   "cell_type": "code",
   "execution_count": 60,
   "metadata": {},
   "outputs": [
    {
     "name": "stdout",
     "output_type": "stream",
     "text": [
      "The price per square meter is:\n",
      "0      54726.027397\n",
      "1      55416.666667\n",
      "2      62962.962963\n",
      "3      51355.140187\n",
      "4      68793.103448\n",
      "           ...     \n",
      "153    57500.000000\n",
      "154    44900.000000\n",
      "155    63043.478261\n",
      "156    44553.571429\n",
      "157    46000.000000\n",
      "Name: ppsqm, Length: 158, dtype: float64\n"
     ]
    }
   ],
   "source": [
    "import pandas as pd\n",
    "\n",
    "def ppsqm():\n",
    "    data1 = pd.read_csv(\"Booli_sold.csv\") # read the csv file and save the data as a variable\n",
    "    data1[\"ppsqm\"] = data1[\"listPrice\"] / data1[\"livingArea\"] # find the columns listPrice and livingArea and divide price/area\n",
    "    return data1\n",
    "\n",
    "data1 = ppsqm()\n",
    "print(\"The price per square meter is:\\n\" + str(data1[\"ppsqm\"]))"
   ]
  },
  {
   "cell_type": "code",
   "execution_count": 61,
   "metadata": {},
   "outputs": [
    {
     "ename": "TypeError",
     "evalue": "DataFrame.nlargest() got an unexpected keyword argument 'by'",
     "output_type": "error",
     "traceback": [
      "\u001b[1;31m---------------------------------------------------------------------------\u001b[0m",
      "\u001b[1;31mTypeError\u001b[0m                                 Traceback (most recent call last)",
      "Cell \u001b[1;32mIn[61], line 5\u001b[0m\n\u001b[0;32m      2\u001b[0m     sorted_price \u001b[38;5;241m=\u001b[39m data1\u001b[38;5;241m.\u001b[39mnlargest(\u001b[38;5;241m5\u001b[39m, by\u001b[38;5;241m=\u001b[39m\u001b[38;5;124m'\u001b[39m\u001b[38;5;124mppsqm\u001b[39m\u001b[38;5;124m'\u001b[39m)[[\u001b[38;5;124m'\u001b[39m\u001b[38;5;124mlistPrice\u001b[39m\u001b[38;5;124m'\u001b[39m, \u001b[38;5;124m'\u001b[39m\u001b[38;5;124mlivingArea\u001b[39m\u001b[38;5;124m'\u001b[39m, \u001b[38;5;124m'\u001b[39m\u001b[38;5;124mppsqm\u001b[39m\u001b[38;5;124m'\u001b[39m]] \u001b[38;5;66;03m# sort prices by ppsqm and show the respective listPrice and livingArea\u001b[39;00m\n\u001b[0;32m      3\u001b[0m     \u001b[38;5;28;01mreturn\u001b[39;00m sorted_price\n\u001b[1;32m----> 5\u001b[0m top_5_expensive \u001b[38;5;241m=\u001b[39m \u001b[43mmost_expensive\u001b[49m\u001b[43m(\u001b[49m\u001b[43m)\u001b[49m\n\u001b[0;32m      6\u001b[0m \u001b[38;5;28mprint\u001b[39m(\u001b[38;5;124m\"\u001b[39m\u001b[38;5;124mThe 5 most expensive appartments:\u001b[39m\u001b[38;5;130;01m\\n\u001b[39;00m\u001b[38;5;124m\"\u001b[39m \u001b[38;5;241m+\u001b[39m \u001b[38;5;28mstr\u001b[39m(top_5_expensive[\u001b[38;5;241m-\u001b[39m\u001b[38;5;241m5\u001b[39m:]))\n",
      "Cell \u001b[1;32mIn[61], line 2\u001b[0m, in \u001b[0;36mmost_expensive\u001b[1;34m()\u001b[0m\n\u001b[0;32m      1\u001b[0m \u001b[38;5;28;01mdef\u001b[39;00m \u001b[38;5;21mmost_expensive\u001b[39m():\n\u001b[1;32m----> 2\u001b[0m     sorted_price \u001b[38;5;241m=\u001b[39m \u001b[43mdata1\u001b[49m\u001b[38;5;241;43m.\u001b[39;49m\u001b[43mnlargest\u001b[49m\u001b[43m(\u001b[49m\u001b[38;5;241;43m5\u001b[39;49m\u001b[43m,\u001b[49m\u001b[43m \u001b[49m\u001b[43mby\u001b[49m\u001b[38;5;241;43m=\u001b[39;49m\u001b[38;5;124;43m'\u001b[39;49m\u001b[38;5;124;43mppsqm\u001b[39;49m\u001b[38;5;124;43m'\u001b[39;49m\u001b[43m)\u001b[49m[[\u001b[38;5;124m'\u001b[39m\u001b[38;5;124mlistPrice\u001b[39m\u001b[38;5;124m'\u001b[39m, \u001b[38;5;124m'\u001b[39m\u001b[38;5;124mlivingArea\u001b[39m\u001b[38;5;124m'\u001b[39m, \u001b[38;5;124m'\u001b[39m\u001b[38;5;124mppsqm\u001b[39m\u001b[38;5;124m'\u001b[39m]] \u001b[38;5;66;03m# sort prices by ppsqm and show the respective listPrice and livingArea\u001b[39;00m\n\u001b[0;32m      3\u001b[0m     \u001b[38;5;28;01mreturn\u001b[39;00m sorted_price\n",
      "\u001b[1;31mTypeError\u001b[0m: DataFrame.nlargest() got an unexpected keyword argument 'by'"
     ]
    }
   ],
   "source": [
    "def most_expensive():\n",
    "    sorted_price = data1.nlargest(5, by='ppsqm')[['listPrice', 'livingArea', 'ppsqm']] # sort prices by ppsqm and show the respective listPrice and livingArea\n",
    "    return sorted_price\n",
    "\n",
    "top_5_expensive = most_expensive()\n",
    "print(\"The 5 most expensive appartments:\\n\" + str(top_5_expensive[-5:]))"
   ]
  },
  {
   "cell_type": "code",
   "execution_count": null,
   "metadata": {},
   "outputs": [
    {
     "name": "stdout",
     "output_type": "stream",
     "text": [
      "The average price per square meter in Ekhagen is: 54127.436921333974\n"
     ]
    }
   ],
   "source": [
    "def average_ppsqm():\n",
    "    average_ppsqm = data1[\"ppsqm\"].mean() # calculate the average ppsqm\n",
    "    return average_ppsqm\n",
    "\n",
    "average_ppsqm = average_ppsqm()\n",
    "print(\"The average price per square meter in Ekhagen is: \" + str(average_ppsqm))"
   ]
  },
  {
   "cell_type": "markdown",
   "metadata": {},
   "source": [
    "## Takeaway & Hypothesis\n",
    "Something interesting take away from this analysis is that the prices in Ekhagen are generally on the lower end compared to other parts of Stockholm, this could be due to many factors but one particular factor that in mind is the time of construction of all the apartments being sold in Ekhagen. They are generally older apartments from the 1930s. A further analysis that could perhaps prove this \"hypothesis\" could be to analyze the general price ranges in other parts of Stockholm with similar socioeconomic and architectural conditions. "
   ]
  },
  {
   "cell_type": "markdown",
   "metadata": {},
   "source": [
    "# The Swedish Election of 2018\n",
    "Using data provided to us in the file \"2018_R_per_kommun.csv\" we will now analyze the following:\n",
    "\n",
    "1. Calculate the total number of legitimate votes (Giltiga Röster) in Stockholm during the election. That is, sum upp the number of legitimate votes for all municipalities (kommun) in Stockholm.\n",
    "2. In which municipality did the social democratic party (Social demokraterna, S) garner the hightest voting percentage?\n",
    "3. Rank the (3) municipialities with highest participation (valdeltagande). Present this in the form of a table."
   ]
  },
  {
   "cell_type": "code",
   "execution_count": null,
   "metadata": {},
   "outputs": [
    {
     "name": "stdout",
     "output_type": "stream",
     "text": [
      "The total number of legitimate votes in Stockholm during the election is: 6476725\n"
     ]
    }
   ],
   "source": [
    "def total_legitimate_votes():\n",
    "    data2 = pd.read_csv(\"2018_R_per_kommun.csv\",sep=\";\") # read the csv file and save the data as a variable\n",
    "    total_legitimate_votes = data2[\"RÖSTER GILTIGA\"].sum() # sum up the number of legitimate votes for all municipalities\n",
    "    return total_legitimate_votes\n",
    "\n",
    "total_legitimate_votes = total_legitimate_votes()\n",
    "print(\"The total number of legitimate votes in Stockholm during the election is: \" + str(total_legitimate_votes))"
   ]
  },
  {
   "cell_type": "code",
   "execution_count": null,
   "metadata": {},
   "outputs": [
    {
     "name": "stdout",
     "output_type": "stream",
     "text": [
      "The municipality with the highest voting percentage in the political party S (Social Demokraterna): \n",
      "     KOMMUNKOD KOMMUNNAMN     S\n",
      "176         93  Mariestad  33.0\n"
     ]
    }
   ],
   "source": [
    "def muni_highest_S_voting_percentage():\n",
    "    data2 = pd.read_csv(\"2018_R_per_kommun.csv\", sep=\";\") # need to read again even though already defined above? Else not defined error\n",
    "    data2[\"S\"] = pd.to_numeric(data2[\"S\"], errors=\"coerce\")\n",
    "    muni_highest_S_voting_percentage = data2.nlargest(1, \"S\")[['KOMMUNKOD', 'KOMMUNNAMN', 'S']] # show the single muni with highest voting percentage in S\n",
    "    return muni_highest_S_voting_percentage\n",
    "\n",
    "muni_highest_S_voting_percentage = muni_highest_S_voting_percentage()\n",
    "print(\"The municipality with the highest voting percentage in the political party S (Social Demokraterna): \\n\" + str(muni_highest_S_voting_percentage))\n"
   ]
  },
  {
   "cell_type": "code",
   "execution_count": null,
   "metadata": {},
   "outputs": [
    {
     "name": "stdout",
     "output_type": "stream",
     "text": [
      "The 3 municipalities with highest participation (valdeltagande) are \n",
      "     KOMMUNKOD KOMMUNNAMN  VALDELTAGANDE\n",
      "187         61    Hammarö           91.0\n",
      "18          82      Nacka           90.0\n",
      "57          17     Gnosjö           86.0\n"
     ]
    }
   ],
   "source": [
    "def top_3_highest_muni_participation():\n",
    "    data2 = pd.read_csv(\"2018_R_per_kommun.csv\", sep=\";\") # need to read again even though already defined above? Else not defined error\n",
    "    data2[\"VALDELTAGANDE\"] = pd.to_numeric(data2[\"VALDELTAGANDE\"], errors=\"coerce\")\n",
    "    top_3_highest_muni_participation = data2.nlargest(3, \"VALDELTAGANDE\")[['KOMMUNKOD','KOMMUNNAMN', 'VALDELTAGANDE']] # presenting in table format with 3 columns\n",
    "    return top_3_highest_muni_participation\n",
    "\n",
    "top_3_highest_muni_participation = top_3_highest_muni_participation()\n",
    "print(\"The 3 municipalities with highest participation (valdeltagande) are \\n\" + str(top_3_highest_muni_participation))"
   ]
  },
  {
   "cell_type": "markdown",
   "metadata": {},
   "source": [
    "# Predicting Strokes\n",
    "Our task is to draw a conclusion using a suitable plot based on the file \"stroke-data.csv\" that was given to us or more specifically the data provided to us by https://www.kaggle.com/datasets/fedesoriano/stroke-prediction-dataset - Kaggle: Stroke Prediction Dataset. We will do this by plotting a line chart showcasing whether some of the common factors of stroke have a correlation with infact having a stroke. These factors are age, gender, smoking, heart disease and BMI. "
   ]
  },
  {
   "cell_type": "code",
   "execution_count": null,
   "metadata": {},
   "outputs": [],
   "source": [
    "import pandas as pd\n",
    "\n",
    "data3 = pd.read_csv(\"stroke-data.csv\")\n",
    "data3 = data3[['age', 'gender','smoking','heart_disease','bmi', 'stroke']].dropna()"
   ]
  },
  {
   "cell_type": "code",
   "execution_count": 63,
   "metadata": {},
   "outputs": [
    {
     "ename": "ModuleNotFoundError",
     "evalue": "No module named 'matplotlib'",
     "output_type": "error",
     "traceback": [
      "\u001b[1;31m---------------------------------------------------------------------------\u001b[0m",
      "\u001b[1;31mModuleNotFoundError\u001b[0m                       Traceback (most recent call last)",
      "Cell \u001b[1;32mIn[63], line 2\u001b[0m\n\u001b[0;32m      1\u001b[0m \u001b[38;5;28;01mimport\u001b[39;00m \u001b[38;5;21;01mpandas\u001b[39;00m \u001b[38;5;28;01mas\u001b[39;00m \u001b[38;5;21;01mpd\u001b[39;00m\n\u001b[1;32m----> 2\u001b[0m \u001b[38;5;28;01mimport\u001b[39;00m \u001b[38;5;21;01mmatplotlib\u001b[39;00m\u001b[38;5;21;01m.\u001b[39;00m\u001b[38;5;21;01mpyplot\u001b[39;00m \u001b[38;5;28;01mas\u001b[39;00m \u001b[38;5;21;01mplt\u001b[39;00m\n\u001b[0;32m      3\u001b[0m \u001b[38;5;28;01mimport\u001b[39;00m \u001b[38;5;21;01mseaborn\u001b[39;00m \u001b[38;5;28;01mas\u001b[39;00m \u001b[38;5;21;01msns\u001b[39;00m\n\u001b[0;32m      5\u001b[0m \u001b[38;5;66;03m# Load the CSV file\u001b[39;00m\n",
      "\u001b[1;31mModuleNotFoundError\u001b[0m: No module named 'matplotlib'"
     ]
    }
   ],
   "source": [
    "import pandas as pd\n",
    "import matplotlib.pyplot as plt\n",
    "import seaborn as sns\n",
    "\n",
    "# Load the CSV file\n",
    "data = pd.read_csv('stroke-data.csv')\n",
    "\n",
    "# Select relevant columns\n",
    "data = data[['gender', 'age', 'smoking_status', 'heart_disease', 'bmi', 'stroke']]\n",
    "\n",
    "# Handle missing BMI values by imputing with the median\n",
    "data['bmi'].fillna(data['bmi'].median(), inplace=True)\n",
    "\n",
    "# Convert categorical variables to numerical for analysis\n",
    "data['gender'] = data['gender'].map({'Male': 0, 'Female': 1, 'Other': 2})\n",
    "data['smoking_status'] = data['smoking_status'].map({\n",
    "    'never smoked': 0,\n",
    "    'formerly smoked': 1,\n",
    "    'smokes': 2,\n",
    "    'Unknown': 3\n",
    "})\n",
    "\n",
    "\n",
    "# Calculate correlation matrix\n",
    "corr_matrix = data.corr()\n",
    "\n",
    "# Focus on correlations with 'stroke'\n",
    "stroke_corr = corr_matrix['stroke'].drop('stroke').sort_values(ascending=False)\n",
    "\n",
    "\n",
    "# Set the style\n",
    "sns.set_theme(style=\"whitegrid\")\n",
    "\n",
    "# Plot the correlations\n",
    "plt.figure(figsize=(10,6))\n",
    "stroke_corr.plot(kind='line', marker='o', color='b')\n",
    "\n",
    "# Add titles and labels\n",
    "plt.title('Correlation of Factors with Stroke Occurrence')\n",
    "plt.xlabel('Factors')\n",
    "plt.ylabel('Correlation Coefficient')\n",
    "plt.ylim(-0.1, 1)\n",
    "\n",
    "# Display the plot\n",
    "plt.show()"
   ]
  }
 ],
 "metadata": {
  "kernelspec": {
   "display_name": "Python 3",
   "language": "python",
   "name": "python3"
  },
  "language_info": {
   "codemirror_mode": {
    "name": "ipython",
    "version": 3
   },
   "file_extension": ".py",
   "mimetype": "text/x-python",
   "name": "python",
   "nbconvert_exporter": "python",
   "pygments_lexer": "ipython3",
   "version": "3.12.7"
  }
 },
 "nbformat": 4,
 "nbformat_minor": 2
}
