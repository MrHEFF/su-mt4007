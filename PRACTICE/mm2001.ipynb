{
 "cells": [
  {
   "cell_type": "markdown",
   "metadata": {},
   "source": [
    "# Data analysis of csv file MM2001 and MM2001_results\n",
    "Say we want to see how many of the participants passed the course MM2001 out of the total and then find the average grade. "
   ]
  },
  {
   "cell_type": "code",
   "execution_count": 55,
   "metadata": {},
   "outputs": [
    {
     "name": "stdout",
     "output_type": "stream",
     "text": [
      "The ratio of failed students is 0.708 or as a numerical value 2016 out of total 2849 students failed.\n"
     ]
    }
   ],
   "source": [
    "import pandas as pd\n",
    "\n",
    "df = pd.read_csv(\"/Users/sebastijanbabic/Library/CloudStorage/OneDrive-Personal/Universitet/UNIVERSITY/HT 24/STATISTIK DATANALYS/MT4007/PRACTICE/MM2001_results.csv\")\n",
    "\n",
    "letters_to_values1 = {\n",
    "    'A': 1,\n",
    "    'B': 1,\n",
    "    'C': 1,\n",
    "    'D': 1,\n",
    "    'E': 1\n",
    "}\n",
    "\n",
    "df[\"Grade\"] = df[\"Grade\"].map(letters_to_values) # updated csv with values for each of the grades\n",
    "\n",
    "failed_participants = df[\"Grade\"].isna().sum() # turn NA into a numerical value = 1\n",
    "passed_participants = df[\"Grade\"].sum() # sum all passed with the now numerical values for each of the grades\n",
    "total_participants = failed_participants + passed_participants\n",
    "\n",
    "amount_failed = failed_participants / total_participants\n",
    "\n",
    "print(f\"The ratio of failed students is {round(amount_failed, 3)} or as a numerical value {failed_participants} out of total {int(total_participants)} students failed.\")"
   ]
  },
  {
   "cell_type": "code",
   "execution_count": 56,
   "metadata": {},
   "outputs": [
    {
     "data": {
      "text/plain": [
       "Series([], Name: Grade, dtype: float64)"
      ]
     },
     "execution_count": 56,
     "metadata": {},
     "output_type": "execute_result"
    }
   ],
   "source": [
    "letters_to_values2 = {\n",
    "    'A': 6,\n",
    "    'B': 5,\n",
    "    'C': 4,\n",
    "    'D': 3,\n",
    "    'E': 2,\n",
    "}\n",
    "\n",
    "df[\"Grade\"] = df[\"Grade\"].map(letters_to_values2)\n",
    "\n",
    "most_common = df[\"Grade\"].mode(dropna=True)\n",
    "\n",
    "most_common"
   ]
  }
 ],
 "metadata": {
  "kernelspec": {
   "display_name": "base",
   "language": "python",
   "name": "python3"
  },
  "language_info": {
   "codemirror_mode": {
    "name": "ipython",
    "version": 3
   },
   "file_extension": ".py",
   "mimetype": "text/x-python",
   "name": "python",
   "nbconvert_exporter": "python",
   "pygments_lexer": "ipython3",
   "version": "3.12.2"
  }
 },
 "nbformat": 4,
 "nbformat_minor": 2
}
