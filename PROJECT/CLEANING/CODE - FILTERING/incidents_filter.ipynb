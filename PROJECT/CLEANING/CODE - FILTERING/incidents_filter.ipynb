{
 "cells": [
  {
   "cell_type": "code",
   "execution_count": null,
   "metadata": {},
   "outputs": [],
   "source": [
    "import pandas as pd\n",
    "import numpy as np\n",
    "import matplotlib.pyplot as plt\n",
    "from scipy.stats import gaussian_kde\n",
    "import os\n",
    "\n",
    "# Define file paths\n",
    "input_file = r\"C:\\Users\\sebas\\OneDrive\\Windows\\Desktop\\HT24\\MT4007\\PROJECT\\DATA\\INCIDENTS\\filtered_incidents_data.csv\" # or in any other way that works for you, eg. via github\n",
    "output_file = r\"C:\\Users\\sebas\\OneDrive\\Windows\\Desktop\\HT24\\MT4007\\PROJECT\\DATA\\processed_incidents_data.csv\"\n",
    "\n",
    "# Check if the input file exists\n",
    "if not os.path.exists(input_file):\n",
    "    print(\"Input file not found. Please check the file path.\")\n",
    "    exit()\n",
    "\n",
    "# Load the dataset\n",
    "print(\"Loading dataset\")\n",
    "incident_df = pd.read_csv(input_file, low_memory=False)\n",
    "\n",
    "# Ensure the date column is parsed correctly\n",
    "print(\"Parsing dates\")\n",
    "incident_df['Start_Time'] = pd.to_datetime(incident_df['Start_Time'], errors='coerce')\n",
    "\n",
    "# Filter data for the years 2017 to 2019\n",
    "print(\"Filtering data for 2017-2020\")\n",
    "filtered_df = incident_df[(incident_df['Start_Time'] >= '2017-01-01') & (incident_df['Start_Time'] <= '2019-12-31')]\n",
    "\n",
    "# Select only the necessary columns\n",
    "print(\"Selecting relevant columns\")\n",
    "columns_to_keep = [\n",
    "    'Start_Time', 'End_Time', 'City', 'State', 'Start_Lat', 'Start_Lng',\n",
    "    'Traffic_Signal', 'Junction', 'Crossing', 'Roundabout', 'Give_Way',\n",
    "    'Stop', 'Traffic_Calming'\n",
    "]\n",
    "filtered_df = filtered_df[columns_to_keep]\n",
    "\n",
    "# Save the filtered dataset to a new CSV file\n",
    "print(\"Saving filtered dataset...\")\n",
    "filtered_df.to_csv(output_file, index=False)\n",
    "print(f\"Filtered data saved to {output_file}\")"
   ]
  }
 ],
 "metadata": {
  "kernelspec": {
   "display_name": "Python 3",
   "language": "python",
   "name": "python3"
  },
  "language_info": {
   "name": "python",
   "version": "3.12.3"
  }
 },
 "nbformat": 4,
 "nbformat_minor": 2
}
