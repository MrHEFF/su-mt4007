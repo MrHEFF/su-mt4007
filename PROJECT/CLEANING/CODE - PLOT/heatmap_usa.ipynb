{
 "cells": [
  {
   "cell_type": "code",
   "execution_count": 1,
   "metadata": {},
   "outputs": [],
   "source": [
    "import pandas as pd \n",
    "import numpy as np\n",
    "import seaborn as seaborn\n",
    "import requests as requests\n",
    "import json as json\n",
    "from scipy.stats import kde\n",
    "import matplotlib.pyplot as plt\n",
    "import folium\n",
    "from folium.plugins import HeatMap"
   ]
  },
  {
   "cell_type": "code",
   "execution_count": 3,
   "metadata": {},
   "outputs": [
    {
     "name": "stdout",
     "output_type": "stream",
     "text": [
      "Loading all csv files...\n"
     ]
    },
    {
     "name": "stderr",
     "output_type": "stream",
     "text": [
      "C:\\Users\\sebas\\AppData\\Local\\Temp\\ipykernel_688\\3832246738.py:2: DtypeWarning: Columns (2,3,34,35,66,67,98,99) have mixed types. Specify dtype option on import or set low_memory=False.\n",
      "  income_2017 = pd.read_csv(r\"C:\\Users\\sebas\\OneDrive\\UNIVERSITY\\HT 24\\MT4007 - statistical data processing\\PROJECT\\DATA\\US BUREAU\\2017\\income_2017.csv\")\n",
      "C:\\Users\\sebas\\AppData\\Local\\Temp\\ipykernel_688\\3832246738.py:3: DtypeWarning: Columns (2,3,34,35,36,37,38,39) have mixed types. Specify dtype option on import or set low_memory=False.\n",
      "  income_2018 = pd.read_csv(r\"C:\\Users\\sebas\\OneDrive\\UNIVERSITY\\HT 24\\MT4007 - statistical data processing\\PROJECT\\DATA\\US BUREAU\\2018\\income_2018.csv\")\n",
      "C:\\Users\\sebas\\AppData\\Local\\Temp\\ipykernel_688\\3832246738.py:4: DtypeWarning: Columns (2,3,34,35,66,67,98,99) have mixed types. Specify dtype option on import or set low_memory=False.\n",
      "  income_2019 = pd.read_csv(r\"C:\\Users\\sebas\\OneDrive\\UNIVERSITY\\HT 24\\MT4007 - statistical data processing\\PROJECT\\DATA\\US BUREAU\\2019\\income_2019.csv\")\n"
     ]
    },
    {
     "name": "stdout",
     "output_type": "stream",
     "text": [
      "All csv files loaded successfully.\n"
     ]
    }
   ],
   "source": [
    "print(\"Loading all csv files...\")\n",
    "income_2017 = pd.read_csv(r\"C:\\Users\\sebas\\OneDrive\\UNIVERSITY\\HT 24\\MT4007 - statistical data processing\\PROJECT\\DATA\\US BUREAU\\2017\\income_2017.csv\")\n",
    "income_2018 = pd.read_csv(r\"C:\\Users\\sebas\\OneDrive\\UNIVERSITY\\HT 24\\MT4007 - statistical data processing\\PROJECT\\DATA\\US BUREAU\\2018\\income_2018.csv\")\n",
    "income_2019 = pd.read_csv(r\"C:\\Users\\sebas\\OneDrive\\UNIVERSITY\\HT 24\\MT4007 - statistical data processing\\PROJECT\\DATA\\US BUREAU\\2019\\income_2019.csv\")\n",
    "# read big file from other github repo with large files using LFS functionality\n",
    "url = 'https://media.githubusercontent.com/media/MrHEFF/large-file-mt4007/refs/heads/main/filtered_incidents_data.csv'\n",
    "incidents_2017to2019 = pd.read_csv(url,index_col=0)\n",
    "\n",
    "print(\"All csv files loaded successfully.\")\n",
    "\n"
   ]
  },
  {
   "cell_type": "code",
   "execution_count": 4,
   "metadata": {},
   "outputs": [],
   "source": [
    "# extract latitude and longitude from the incidents dataset\n",
    "latitudes = incidents_2017to2019['Start_Lat']\n",
    "longitudes = incidents_2017to2019['Start_Lng']\n",
    "\n",
    "# create a base map using folium\n",
    "map_usa = folium.Map(location=[37.0902, -95.7129], zoom_start=4)\n",
    "\n",
    "# add a heatmap to the base map\n",
    "heat_data = [[lat, lng] for lat, lng in zip(latitudes, longitudes)]\n",
    "HeatMap(heat_data, radius=15, blur=15).add_to(map_usa)\n",
    "\n",
    "# display the map\n",
    "map_usa\n",
    "# save the map to an HTML file\n",
    "# map_usa.save(\"heatmap_usa.html\")\n"
   ]
  }
 ],
 "metadata": {
  "kernelspec": {
   "display_name": "Python 3",
   "language": "python",
   "name": "python3"
  },
  "language_info": {
   "codemirror_mode": {
    "name": "ipython",
    "version": 3
   },
   "file_extension": ".py",
   "mimetype": "text/x-python",
   "name": "python",
   "nbconvert_exporter": "python",
   "pygments_lexer": "ipython3",
   "version": "3.12.3"
  }
 },
 "nbformat": 4,
 "nbformat_minor": 2
}
