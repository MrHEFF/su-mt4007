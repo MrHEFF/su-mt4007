{
 "cells": [
  {
   "cell_type": "code",
   "execution_count": 1,
   "metadata": {},
   "outputs": [],
   "source": [
    "import pandas as pd \n",
    "import numpy as np\n",
    "import seaborn as seaborn\n",
    "import requests as requests\n",
    "import json as json\n",
    "from scipy.stats import kde\n",
    "import matplotlib.pyplot as plt\n",
    "import folium\n",
    "from folium.plugins import HeatMap"
   ]
  },
  {
   "cell_type": "code",
   "execution_count": null,
   "metadata": {},
   "outputs": [],
   "source": [
    "income_2017 = pd.read_csv(r\"C:\\Users\\sebas\\OneDrive\\Windows\\Desktop\\HT24\\MT4007\\PROJECT\\DATA\\US BUREAU\\2017\\income_2017.csv\")\n",
    "income_2018 = pd.read_csv(r\"C:\\Users\\sebas\\OneDrive\\Windows\\Desktop\\HT24\\MT4007\\PROJECT\\DATA\\US BUREAU\\2018\\income_2018.csv\")\n",
    "income_2019 = pd.read_csv(r\"C:\\Users\\sebas\\OneDrive\\Windows\\Desktop\\HT24\\MT4007\\PROJECT\\DATA\\US BUREAU\\2019\\income_2019.csv\")\n",
    "# read big file from my other github repo with large files\n",
    "url = 'https://media.githubusercontent.com/media/MrHEFF/large-file-mt4007/refs/heads/main/filtered_incidents_data.csv'\n",
    "incidents_2017to2019 = pd.read_csv(url,index_col=0)\n",
    "\n",
    "incidents_2017to2019.head(5)\n",
    "\n"
   ]
  }
 ],
 "metadata": {
  "kernelspec": {
   "display_name": "Python 3",
   "language": "python",
   "name": "python3"
  },
  "language_info": {
   "codemirror_mode": {
    "name": "ipython",
    "version": 3
   },
   "file_extension": ".py",
   "mimetype": "text/x-python",
   "name": "python",
   "nbconvert_exporter": "python",
   "pygments_lexer": "ipython3",
   "version": "3.12.3"
  }
 },
 "nbformat": 4,
 "nbformat_minor": 2
}
