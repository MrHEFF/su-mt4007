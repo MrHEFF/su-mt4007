{
 "cells": [
  {
   "cell_type": "markdown",
   "metadata": {},
   "source": [
    "As mentioned in `report_second_try.ipynb`, you will see that this dataset is contained in an LFS git repository at https://github.com/MrHEFF/large-file-mt4007"
   ]
  }
 ],
 "metadata": {
  "language_info": {
   "name": "python"
  }
 },
 "nbformat": 4,
 "nbformat_minor": 2
}
