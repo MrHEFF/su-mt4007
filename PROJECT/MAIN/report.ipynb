{
 "cells": [
  {
   "cell_type": "markdown",
   "metadata": {},
   "source": [
    "# Analysis of US traffic accidents and their locations\n",
    "In this project we will examine the frequency of US traffic accidents and how they seem to be spread across all of USA. We will also do a bit more of a local analysis by looking at the state of New York. The analysis itself will be mostly graphical with heatmaps showing the frequency over all of USA and then solely New York. \n",
    "\n",
    "The dataset being used in this project has been collected over the period of February 2016 to March 2023 provided to us by many APIs all joined into one dataset by Moosavi, Sobhan, Mohammad Hossein Samavatian, Srinivasan Parthasarathy, Radu Teodorescu, and Rajiv Ramnath (see references at the end). We will however only do an analysis of the 2017 to 2019 period so as to avoid lacking data in 2016 and also the pandemic as this would cause an incredibly skewed distribution from 2020 onwards. \n",
    "\n",
    "This analysis is being done in order to identify high-incidence areas where accidents are most frequent, which can help in resource allocation for traffic management and safety initiatives and to observe patterns in accident occurrences, such as clustering in urban areas or along specific highways and even socioeconomic patterns. Ie. do high income areas have a higher frequency than low income areas, this will be done using open-source datasets provided by United States Census Bureau (see references).\n",
    "\n",
    "For starters, we must import the necessary packages for this project and also the files mentioned above. \n",
    "\n",
    "\n"
   ]
  },
  {
   "cell_type": "code",
   "execution_count": 4,
   "metadata": {},
   "outputs": [],
   "source": [
    "import pandas as pd \n",
    "import numpy as np\n",
    "import seaborn as seaborn\n",
    "import requests as requests\n",
    "import json as json\n",
    "from scipy.stats import kde\n",
    "import matplotlib.pyplot as plt\n",
    "import folium\n",
    "from folium.plugins import HeatMap"
   ]
  },
  {
   "cell_type": "code",
   "execution_count": null,
   "metadata": {},
   "outputs": [],
   "source": [
    "import kagglehub\n",
    "\n",
    "# remove next hashtag to download original file\n",
    "# path = kagglehub.dataset_download(\"sobhanmoosavi/us-accidents\")\n",
    "\n",
    "print(\"Path to dataset files:\", path)"
   ]
  },
  {
   "cell_type": "code",
   "execution_count": 7,
   "metadata": {},
   "outputs": [
    {
     "name": "stderr",
     "output_type": "stream",
     "text": [
      "C:\\Users\\sebas\\AppData\\Local\\Temp\\ipykernel_9520\\2904417014.py:6: DtypeWarning: Columns (2,3,34,35,66,67,98,99) have mixed types. Specify dtype option on import or set low_memory=False.\n",
      "  income_2019 = pd.read_csv(r\"C:\\Users\\sebas\\OneDrive\\Windows\\Desktop\\HT24\\MT4007\\PROJECT\\DATA\\US BUREAU\\2019\\income_2019.csv\")\n",
      "C:\\Users\\sebas\\AppData\\Local\\Temp\\ipykernel_9520\\2904417014.py:7: DtypeWarning: Columns (2,3,34,35,36,37,38,39) have mixed types. Specify dtype option on import or set low_memory=False.\n",
      "  income_2018 = pd.read_csv(r\"C:\\Users\\sebas\\OneDrive\\Windows\\Desktop\\HT24\\MT4007\\PROJECT\\DATA\\US BUREAU\\2018\\income_2018.csv\")\n",
      "C:\\Users\\sebas\\AppData\\Local\\Temp\\ipykernel_9520\\2904417014.py:8: DtypeWarning: Columns (2,3,34,35,66,67,98,99) have mixed types. Specify dtype option on import or set low_memory=False.\n",
      "  income_2017 = pd.read_csv(r\"C:\\Users\\sebas\\OneDrive\\Windows\\Desktop\\HT24\\MT4007\\PROJECT\\DATA\\US BUREAU\\2017\\income_2017.csv\")\n"
     ]
    }
   ],
   "source": [
    "# Raw URL to the JSON file\n",
    "url = \"https://media.githubusercontent.com/media/MrHEFF/large-file-mt4007/refs/heads/main/filtered_incidents_data.csv\"\n",
    "\n",
    "# Read the JSON file into a DataFrame\n",
    "incidents_df = pd.read_csv(url)\n",
    "income_2019 = pd.read_csv(r\"C:\\Users\\sebas\\OneDrive\\Windows\\Desktop\\HT24\\MT4007\\PROJECT\\DATA\\US BUREAU\\2019\\income_2019.csv\")\n",
    "income_2018 = pd.read_csv(r\"C:\\Users\\sebas\\OneDrive\\Windows\\Desktop\\HT24\\MT4007\\PROJECT\\DATA\\US BUREAU\\2018\\income_2018.csv\")\n",
    "income_2017 = pd.read_csv(r\"C:\\Users\\sebas\\OneDrive\\Windows\\Desktop\\HT24\\MT4007\\PROJECT\\DATA\\US BUREAU\\2017\\income_2017.csv\")"
   ]
  },
  {
   "cell_type": "markdown",
   "metadata": {},
   "source": [
    "\n",
    "\n",
    "# References\n",
    "1. Moosavi, S., Samavatian, M. H., Parthasarathy, S., Teodorescu, R., & Ramnath, R. (2019). \"A Countrywide Traffic Accident Dataset.\" arXiv preprint arXiv:1906.05409.\n",
    "\n",
    "- https://smoosavi.org/datasets/us_accidents\n",
    "\n",
    "2. U.S. Census Bureau. (2023). American Community Survey (ACS).\n",
    "- https://www.census.gov/programs-surveys/acs\n",
    "\n",
    "1. United States Department of Transportation. (2023). Fatality Analysis Reporting System (FARS).\n",
    "- https://www.nhtsa.gov/research-data/fatality-analysis-reporting-system-fars\n",
    "\n",
    "1. U.S. Census Bureau. (2023). \"Income in the Past 12 Months by Zip Code Tabulation Area (ZCTA).\"\n",
    "- https://data.census.gov/\n"
   ]
  }
 ],
 "metadata": {
  "kernelspec": {
   "display_name": "Python 3",
   "language": "python",
   "name": "python3"
  },
  "language_info": {
   "codemirror_mode": {
    "name": "ipython",
    "version": 3
   },
   "file_extension": ".py",
   "mimetype": "text/x-python",
   "name": "python",
   "nbconvert_exporter": "python",
   "pygments_lexer": "ipython3",
   "version": "3.12.3"
  }
 },
 "nbformat": 4,
 "nbformat_minor": 2
}
