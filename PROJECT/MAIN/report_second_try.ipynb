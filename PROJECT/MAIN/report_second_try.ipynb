{
 "cells": [
  {
   "cell_type": "markdown",
   "metadata": {},
   "source": [
    "# Analysis of US traffic accidents and their locations\n",
    "In this project we will examine the frequency of US traffic accidents and how they seem to be spread across all of USA. We will also do a bit more of a local analysis by looking at the state of New York. The analysis itself will be mostly graphical with heatmaps showing the frequency over all of USA and then solely New York. \n",
    "\n",
    "The dataset being used in this project has been collected over the period of February 2016 to March 2023 provided to us by many APIs all joined into one dataset by Moosavi, Sobhan, Mohammad Hossein Samavatian, Srinivasan Parthasarathy, Radu Teodorescu, and Rajiv Ramnath (see references at the end). We will however only do an analysis of the 2017 to 2019 (end of) period so as to avoid lacking data in 2016 and also the pandemic 2020 onwards as this would cause an incredibly skewed distribution. \n",
    "\n",
    "This analysis is being done in order to identify high-incidence areas where accidents are most frequent, which can help in resource allocation for traffic management and safety initiatives and to observe patterns in accident occurrences, such as clustering in urban areas or along specific highways and even socioeconomic patterns. Ie. do high income areas have a higher frequency than low income areas, this will be done using open-source datasets provided by United States Census Bureau (see references).\n",
    "\n",
    "For starters, we need to import this data. However due to the size of the file reaching over 3 GB in its original size we will first have to somewhat clean this file. This process can be seen in the file `file_cleaning.ipynb`. Here, we will only import the already cleaned data that's been achieved through said process. The outputs which we will present here can be originally found in the folder `CODE - PLOT`."
   ]
  },
  {
   "cell_type": "markdown",
   "metadata": {},
   "source": [
    "> [!fail] fix this\n"
   ]
  },
  {
   "cell_type": "code",
   "execution_count": 16,
   "metadata": {},
   "outputs": [],
   "source": [
    "from IPython.display import display, HTML\n",
    "\n",
    "#display(HTML(r\"C:/Users/sebas/OneDrive/Windows/Desktop/HT24/MT4007/PROJECT/CLEANING/CODE - PLOT/heatmap.html\"))\n"
   ]
  },
  {
   "cell_type": "code",
   "execution_count": null,
   "metadata": {},
   "outputs": [],
   "source": []
  },
  {
   "cell_type": "code",
   "execution_count": null,
   "metadata": {},
   "outputs": [],
   "source": []
  },
  {
   "cell_type": "code",
   "execution_count": null,
   "metadata": {},
   "outputs": [],
   "source": []
  },
  {
   "cell_type": "code",
   "execution_count": null,
   "metadata": {},
   "outputs": [],
   "source": []
  },
  {
   "cell_type": "code",
   "execution_count": null,
   "metadata": {},
   "outputs": [],
   "source": []
  },
  {
   "cell_type": "code",
   "execution_count": null,
   "metadata": {},
   "outputs": [],
   "source": []
  },
  {
   "cell_type": "markdown",
   "metadata": {},
   "source": [
    "\n",
    "\n",
    "# References\n",
    "1. Moosavi, S., Samavatian, M. H., Parthasarathy, S., Teodorescu, R., & Ramnath, R. (2019). \"A Countrywide Traffic Accident Dataset.\" arXiv preprint arXiv:1906.05409.\n",
    "\n",
    "- https://smoosavi.org/datasets/us_accidents\n",
    "\n",
    "2. U.S. Census Bureau. (2023). American Community Survey (ACS).\n",
    "- https://www.census.gov/programs-surveys/acs\n",
    "\n",
    "1. United States Department of Transportation. (2023). Fatality Analysis Reporting System (FARS).\n",
    "- https://www.nhtsa.gov/research-data/fatality-analysis-reporting-system-fars\n",
    "\n",
    "1. U.S. Census Bureau. (2023). \"Income in the Past 12 Months by Zip Code Tabulation Area (ZCTA).\"\n",
    "- https://data.census.gov/\n"
   ]
  }
 ],
 "metadata": {
  "kernelspec": {
   "display_name": "Python 3",
   "language": "python",
   "name": "python3"
  },
  "language_info": {
   "codemirror_mode": {
    "name": "ipython",
    "version": 3
   },
   "file_extension": ".py",
   "mimetype": "text/x-python",
   "name": "python",
   "nbconvert_exporter": "python",
   "pygments_lexer": "ipython3",
   "version": "3.12.3"
  }
 },
 "nbformat": 4,
 "nbformat_minor": 2
}
