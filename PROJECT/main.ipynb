# Analysis of US traffic accidents and their locations
In this project we will examine the frequency of US traffic accidents and how they seem to be spread across all of USA. We will also do a bit more of a local analysis by looking at the state of New York. The analysis itself will be mostly graphical with heatmaps showing the frequency over all of USA and then solely New York. 

The dataset being used in this project has been collected over the period of February 2016 to March 2023 provided to us by many APIs all joined into one dataset by Moosavi, Sobhan, Mohammad Hossein Samavatian, Srinivasan Parthasarathy, Radu Teodorescu, and Rajiv Ramnath (see references at the end). We will however only do an analysis of the 2017 to 2020 period so as to avoid lacking data and also the pandemic as this would cause an incredibly skewed distribution. 

This analysis is being done in order to identify high-incidence areas where accidents are most frequent, which can help in resource allocation for traffic management and safety initiatives and to observe patterns in accident occurrences, such as clustering in urban areas or along specific highways and even socioeconomic patterns. Ie. do high income areas have a higher frequency than low income areas, this will be done using open-source datasets provided by United States Census Bureau (see references).




# References
1. Moosavi, S., Samavatian, M. H., Parthasarathy, S., Teodorescu, R., & Ramnath, R. (2019). "A Countrywide Traffic Accident Dataset." arXiv preprint arXiv:1906.05409.

- https://smoosavi.org/datasets/us_accidents

2. U.S. Census Bureau. (2023). American Community Survey (ACS).
- https://www.census.gov/programs-surveys/acs

1. United States Department of Transportation. (2023). Fatality Analysis Reporting System (FARS).
- https://www.nhtsa.gov/research-data/fatality-analysis-reporting-system-fars

1. U.S. Census Bureau. (2023). "Income in the Past 12 Months by Zip Code Tabulation Area (ZCTA)."
- https://data.census.gov/
