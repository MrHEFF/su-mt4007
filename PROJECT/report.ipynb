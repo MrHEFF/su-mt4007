{
 "cells": [
  {
   "cell_type": "markdown",
   "metadata": {},
   "source": [
    "# Analysis of US traffic accidents and their locations\n",
    "In this project we will examine the frequency of US traffic accidents and how they seem to be spread across all of USA. We will also do a bit more of a local analysis by looking at the state of New York. The analysis itself will be mostly graphical with heatmaps showing the frequency over all of USA and then solely New York. \n",
    "\n",
    "The dataset being used in this project has been collected over the period of February 2016 to March 2023 provided to us by many APIs all joined into one dataset by Moosavi, Sobhan, Mohammad Hossein Samavatian, Srinivasan Parthasarathy, Radu Teodorescu, and Rajiv Ramnath (see references at the end). We will however only do an analysis of the 2017 to 2020 period so as to avoid lacking data and also the pandemic as this would cause an incredibly skewed distribution. \n",
    "\n",
    "This analysis is being done in order to identify high-incidence areas where accidents are most frequent, which can help in resource allocation for traffic management and safety initiatives and to observe patterns in accident occurrences, such as clustering in urban areas or along specific highways and even socioeconomic patterns. Ie. do high income areas have a higher frequency than low income areas, this will be done using open-source datasets provided by United States Census Bureau (see references).\n",
    "\n",
    "\n"
   ]
  },
  {
   "cell_type": "markdown",
   "metadata": {},
   "source": [
    "\n",
    "\n",
    "# References\n",
    "1. Moosavi, S., Samavatian, M. H., Parthasarathy, S., Teodorescu, R., & Ramnath, R. (2019). \"A Countrywide Traffic Accident Dataset.\" arXiv preprint arXiv:1906.05409.\n",
    "\n",
    "- https://smoosavi.org/datasets/us_accidents\n",
    "\n",
    "2. U.S. Census Bureau. (2023). American Community Survey (ACS).\n",
    "- https://www.census.gov/programs-surveys/acs\n",
    "\n",
    "1. United States Department of Transportation. (2023). Fatality Analysis Reporting System (FARS).\n",
    "- https://www.nhtsa.gov/research-data/fatality-analysis-reporting-system-fars\n",
    "\n",
    "1. U.S. Census Bureau. (2023). \"Income in the Past 12 Months by Zip Code Tabulation Area (ZCTA).\"\n",
    "- https://data.census.gov/\n"
   ]
  },
  {
   "cell_type": "code",
   "execution_count": 1,
   "metadata": {},
   "outputs": [
    {
     "data": {
      "text/plain": [
       "'convergence_tests_mindmap.png'"
      ]
     },
     "execution_count": 1,
     "metadata": {},
     "output_type": "execute_result"
    }
   ],
   "source": [
    "from graphviz import Digraph\n",
    "\n",
    "# Initialize the mind map\n",
    "mindmap = Digraph(\"ConvergenceTests\", format=\"png\")\n",
    "mindmap.attr(rankdir=\"TB\", size=\"10\")\n",
    "\n",
    "# Root\n",
    "mindmap.node(\"root\", \"Start: Is it a Series or Integral?\")\n",
    "\n",
    "# First split: Series or Integral\n",
    "mindmap.node(\"series\", \"Series: ∑ a_k\")\n",
    "mindmap.node(\"integral\", \"Improper Integral: ∫ f(x) dx\")\n",
    "mindmap.edge(\"root\", \"series\")\n",
    "mindmap.edge(\"root\", \"integral\")\n",
    "\n",
    "# Series branch\n",
    "mindmap.node(\"series_pos\", \"Is a_k > 0?\")\n",
    "mindmap.edge(\"series\", \"series_pos\")\n",
    "\n",
    "mindmap.node(\"series_test1\", \"If a_k → 0, proceed.\")\n",
    "mindmap.node(\"series_test2\", \"If a_k ≠ 0, Diverges (Test 1)\")\n",
    "mindmap.edge(\"series_pos\", \"series_test1\", label=\"Yes\")\n",
    "mindmap.edge(\"series_pos\", \"series_test2\", label=\"No\")\n",
    "\n",
    "mindmap.node(\"series_decr\", \"Is a_k decreasing?\")\n",
    "mindmap.edge(\"series_test1\", \"series_decr\")\n",
    "\n",
    "mindmap.node(\"series_comp\", \"Comparison or Integral Test\")\n",
    "mindmap.node(\"series_alternating\", \"Alternating Series Test\")\n",
    "mindmap.edge(\"series_decr\", \"series_comp\", label=\"Yes\")\n",
    "mindmap.edge(\"series_decr\", \"series_alternating\", label=\"No\")\n",
    "\n",
    "mindmap.node(\"series_ratio\", \"Geometric or Ratio Test?\")\n",
    "mindmap.edge(\"series_alternating\", \"series_ratio\")\n",
    "\n",
    "mindmap.node(\"series_root\", \"Root Test?\")\n",
    "mindmap.edge(\"series_ratio\", \"series_root\")\n",
    "\n",
    "# Integral branch\n",
    "mindmap.node(\"integral_pos\", \"Is f(x) > 0 and continuous?\")\n",
    "mindmap.edge(\"integral\", \"integral_pos\")\n",
    "\n",
    "mindmap.node(\"integral_decr\", \"Is f(x) decreasing?\")\n",
    "mindmap.node(\"integral_comp\", \"Comparison Test\")\n",
    "mindmap.edge(\"integral_pos\", \"integral_decr\", label=\"Yes\")\n",
    "mindmap.edge(\"integral_decr\", \"integral_comp\", label=\"Yes\")\n",
    "\n",
    "mindmap.node(\"integral_p\", \"p-Test (f(x) ~ 1/x^p)?\")\n",
    "mindmap.edge(\"integral_comp\", \"integral_p\")\n",
    "\n",
    "mindmap.node(\"integral_asymp\", \"Asymptotic Comparison?\")\n",
    "mindmap.node(\"integral_split\", \"Split Oscillating Function\")\n",
    "mindmap.edge(\"integral_pos\", \"integral_asymp\", label=\"No\")\n",
    "mindmap.edge(\"integral_pos\", \"integral_split\", label=\"Oscillates\")\n",
    "\n",
    "# Save and render the mind map\n",
    "output_path = \"convergence_tests_mindmap\"\n",
    "mindmap.render(output_path, view=True)\n"
   ]
  }
 ],
 "metadata": {
  "kernelspec": {
   "display_name": "Python 3",
   "language": "python",
   "name": "python3"
  },
  "language_info": {
   "codemirror_mode": {
    "name": "ipython",
    "version": 3
   },
   "file_extension": ".py",
   "mimetype": "text/x-python",
   "name": "python",
   "nbconvert_exporter": "python",
   "pygments_lexer": "ipython3",
   "version": "3.12.3"
  }
 },
 "nbformat": 4,
 "nbformat_minor": 2
}
